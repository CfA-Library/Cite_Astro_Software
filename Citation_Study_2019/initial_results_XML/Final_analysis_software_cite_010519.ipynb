{
 "cells": [
  {
   "cell_type": "code",
   "execution_count": 42,
   "metadata": {
    "collapsed": true
   },
   "outputs": [],
   "source": [
    "import pandas as pd\n",
    "import numpy as np\n",
    "import seaborn as sns\n",
    "import matplotlib.pyplot as plt"
   ]
  },
  {
   "cell_type": "code",
   "execution_count": 2,
   "metadata": {
    "collapsed": false
   },
   "outputs": [],
   "source": [
    "all_software = pd.read_csv(\"trimmed_all.csv\") "
   ]
  },
  {
   "cell_type": "code",
   "execution_count": 3,
   "metadata": {
    "collapsed": false
   },
   "outputs": [
    {
     "data": {
      "text/plain": [
       "['Record_ID',\n",
       " 'Software_name',\n",
       " 'File_name',\n",
       " 'Article_id',\n",
       " 'Alias',\n",
       " 'ID',\n",
       " 'XML_tag1',\n",
       " 'XML_tag2',\n",
       " 'Trimmed_XML_tag1_content',\n",
       " 'Trimmed_XML_tag2_content',\n",
       " 'Attempted_citation',\n",
       " 'Actual_citation',\n",
       " 'Publication_year',\n",
       " 'Journal_title']"
      ]
     },
     "execution_count": 3,
     "metadata": {},
     "output_type": "execute_result"
    }
   ],
   "source": [
    "list(all_software.columns.values)"
   ]
  },
  {
   "cell_type": "code",
   "execution_count": 4,
   "metadata": {
    "collapsed": false
   },
   "outputs": [
    {
     "data": {
      "text/html": [
       "<div>\n",
       "<table border=\"1\" class=\"dataframe\">\n",
       "  <thead>\n",
       "    <tr style=\"text-align: right;\">\n",
       "      <th></th>\n",
       "      <th>Record_ID</th>\n",
       "      <th>Software_name</th>\n",
       "      <th>File_name</th>\n",
       "      <th>Article_id</th>\n",
       "      <th>Alias</th>\n",
       "      <th>ID</th>\n",
       "      <th>XML_tag1</th>\n",
       "      <th>XML_tag2</th>\n",
       "      <th>Trimmed_XML_tag1_content</th>\n",
       "      <th>Trimmed_XML_tag2_content</th>\n",
       "      <th>Attempted_citation</th>\n",
       "      <th>Actual_citation</th>\n",
       "      <th>Publication_year</th>\n",
       "      <th>Journal_title</th>\n",
       "    </tr>\n",
       "  </thead>\n",
       "  <tbody>\n",
       "    <tr>\n",
       "      <th>0</th>\n",
       "      <td>1</td>\n",
       "      <td>AstroBlend</td>\n",
       "      <td>apj_818_2_115.xml</td>\n",
       "      <td>apj521773| 10.3847/0004-637X/818/2/115| 521773...</td>\n",
       "      <td>astroblend</td>\n",
       "      <td>0</td>\n",
       "      <td>sc</td>\n",
       "      <td>p</td>\n",
       "      <td>astroblend</td>\n",
       "      <td>We note that our example scripts only explore ...</td>\n",
       "      <td>0</td>\n",
       "      <td>0.0</td>\n",
       "      <td>2016</td>\n",
       "      <td>The Astrophysical Journal</td>\n",
       "    </tr>\n",
       "    <tr>\n",
       "      <th>1</th>\n",
       "      <td>2</td>\n",
       "      <td>AstroBlend</td>\n",
       "      <td>apj_818_2_115.xml</td>\n",
       "      <td>apj521773| 10.3847/0004-637X/818/2/115| 521773...</td>\n",
       "      <td>astroblend</td>\n",
       "      <td>0</td>\n",
       "      <td>ext-link</td>\n",
       "      <td>p</td>\n",
       "      <td>http://www.astroblend.com</td>\n",
       "      <td>&lt;ext-link ext-link-type=\"uri\" xlink:href=\"http...</td>\n",
       "      <td>1</td>\n",
       "      <td>0.0</td>\n",
       "      <td>2016</td>\n",
       "      <td>The Astrophysical Journal</td>\n",
       "    </tr>\n",
       "    <tr>\n",
       "      <th>2</th>\n",
       "      <td>3</td>\n",
       "      <td>AstroPy</td>\n",
       "      <td>aj_148_1_13.xml</td>\n",
       "      <td>aj493368| ANJOAA| 10.1088/0004-6256/148/1/13| ...</td>\n",
       "      <td>10.1051/0004-6361/201322068</td>\n",
       "      <td>1</td>\n",
       "      <td>ext-link</td>\n",
       "      <td>nlm-citation</td>\n",
       "      <td>10.1051/0004-6361/201322068</td>\n",
       "      <td>&lt;person-group person-group-type=\"author\"&gt;&lt;name...</td>\n",
       "      <td>1</td>\n",
       "      <td>1.0</td>\n",
       "      <td>2014</td>\n",
       "      <td>The Astronomical Journal</td>\n",
       "    </tr>\n",
       "    <tr>\n",
       "      <th>3</th>\n",
       "      <td>4</td>\n",
       "      <td>AstroPy</td>\n",
       "      <td>aj_148_1_14.xml</td>\n",
       "      <td>aj495229| ANJOAA| 10.1088/0004-6256/148/1/14| ...</td>\n",
       "      <td>10.1051/0004-6361/201322068</td>\n",
       "      <td>1</td>\n",
       "      <td>ext-link</td>\n",
       "      <td>nlm-citation</td>\n",
       "      <td>10.1051/0004-6361/201322068</td>\n",
       "      <td>&lt;person-group person-group-type=\"author\"&gt;&lt;coll...</td>\n",
       "      <td>1</td>\n",
       "      <td>1.0</td>\n",
       "      <td>2014</td>\n",
       "      <td>The Astronomical Journal</td>\n",
       "    </tr>\n",
       "    <tr>\n",
       "      <th>4</th>\n",
       "      <td>5</td>\n",
       "      <td>AstroPy</td>\n",
       "      <td>aj_148_3_53.xml</td>\n",
       "      <td>aj499538| ANJOAA| 10.1088/0004-6256/148/3/53| ...</td>\n",
       "      <td>10.1051/0004-6361/201322068</td>\n",
       "      <td>1</td>\n",
       "      <td>ext-link</td>\n",
       "      <td>nlm-citation</td>\n",
       "      <td>10.1051/0004-6361/201322068</td>\n",
       "      <td>&lt;person-group person-group-type=\"author\"&gt;&lt;coll...</td>\n",
       "      <td>1</td>\n",
       "      <td>1.0</td>\n",
       "      <td>2014</td>\n",
       "      <td>The Astronomical Journal</td>\n",
       "    </tr>\n",
       "  </tbody>\n",
       "</table>\n",
       "</div>"
      ],
      "text/plain": [
       "   Record_ID Software_name          File_name  \\\n",
       "0          1    AstroBlend  apj_818_2_115.xml   \n",
       "1          2    AstroBlend  apj_818_2_115.xml   \n",
       "2          3       AstroPy    aj_148_1_13.xml   \n",
       "3          4       AstroPy    aj_148_1_14.xml   \n",
       "4          5       AstroPy    aj_148_3_53.xml   \n",
       "\n",
       "                                          Article_id  \\\n",
       "0  apj521773| 10.3847/0004-637X/818/2/115| 521773...   \n",
       "1  apj521773| 10.3847/0004-637X/818/2/115| 521773...   \n",
       "2  aj493368| ANJOAA| 10.1088/0004-6256/148/1/13| ...   \n",
       "3  aj495229| ANJOAA| 10.1088/0004-6256/148/1/14| ...   \n",
       "4  aj499538| ANJOAA| 10.1088/0004-6256/148/3/53| ...   \n",
       "\n",
       "                         Alias  ID  XML_tag1      XML_tag2  \\\n",
       "0                   astroblend   0        sc             p   \n",
       "1                   astroblend   0  ext-link             p   \n",
       "2  10.1051/0004-6361/201322068   1  ext-link  nlm-citation   \n",
       "3  10.1051/0004-6361/201322068   1  ext-link  nlm-citation   \n",
       "4  10.1051/0004-6361/201322068   1  ext-link  nlm-citation   \n",
       "\n",
       "      Trimmed_XML_tag1_content  \\\n",
       "0                   astroblend   \n",
       "1    http://www.astroblend.com   \n",
       "2  10.1051/0004-6361/201322068   \n",
       "3  10.1051/0004-6361/201322068   \n",
       "4  10.1051/0004-6361/201322068   \n",
       "\n",
       "                            Trimmed_XML_tag2_content  Attempted_citation  \\\n",
       "0  We note that our example scripts only explore ...                   0   \n",
       "1  <ext-link ext-link-type=\"uri\" xlink:href=\"http...                   1   \n",
       "2  <person-group person-group-type=\"author\"><name...                   1   \n",
       "3  <person-group person-group-type=\"author\"><coll...                   1   \n",
       "4  <person-group person-group-type=\"author\"><coll...                   1   \n",
       "\n",
       "   Actual_citation  Publication_year              Journal_title  \n",
       "0              0.0              2016  The Astrophysical Journal  \n",
       "1              0.0              2016  The Astrophysical Journal  \n",
       "2              1.0              2014   The Astronomical Journal  \n",
       "3              1.0              2014   The Astronomical Journal  \n",
       "4              1.0              2014   The Astronomical Journal  "
      ]
     },
     "execution_count": 4,
     "metadata": {},
     "output_type": "execute_result"
    }
   ],
   "source": [
    "all_software.head(5)"
   ]
  },
  {
   "cell_type": "markdown",
   "metadata": {},
   "source": [
    "### Remove cols not needed"
   ]
  },
  {
   "cell_type": "code",
   "execution_count": 5,
   "metadata": {
    "collapsed": true
   },
   "outputs": [],
   "source": [
    "all_software.drop('Attempted_citation', axis=1, inplace=True)"
   ]
  },
  {
   "cell_type": "code",
   "execution_count": 6,
   "metadata": {
    "collapsed": true
   },
   "outputs": [],
   "source": [
    "all_software.drop('Actual_citation', axis=1, inplace=True)"
   ]
  },
  {
   "cell_type": "markdown",
   "metadata": {},
   "source": [
    "### Convert content "
   ]
  },
  {
   "cell_type": "code",
   "execution_count": 7,
   "metadata": {
    "collapsed": true
   },
   "outputs": [],
   "source": [
    "all_software['Trimmed_XML_tag1_content'] = all_software['Trimmed_XML_tag1_content'].astype('|S')"
   ]
  },
  {
   "cell_type": "code",
   "execution_count": 8,
   "metadata": {
    "collapsed": true
   },
   "outputs": [],
   "source": [
    "all_software['Trimmed_XML_tag2_content'] = all_software['Trimmed_XML_tag2_content'].astype('|S')"
   ]
  },
  {
   "cell_type": "markdown",
   "metadata": {},
   "source": [
    "### Create columns for references, acknowledgements, and footnotes"
   ]
  },
  {
   "cell_type": "code",
   "execution_count": 9,
   "metadata": {
    "collapsed": false
   },
   "outputs": [],
   "source": [
    "all_software['ref'] = np.where((all_software['XML_tag2']== \"nlm-citation\") | (all_software['XML_tag2']== \"source\") | (all_software['XML_tag2']== \"element-citation\") | (all_software['Trimmed_XML_tag2_content'].str.contains(\"bibr\")) | (all_software['Trimmed_XML_tag1_content'].str.contains(\"bibr\")), 'yes', 'no')"
   ]
  },
  {
   "cell_type": "code",
   "execution_count": 10,
   "metadata": {
    "collapsed": false
   },
   "outputs": [],
   "source": [
    "all_software['ack'] = np.where((all_software['XML_tag2']== \"ack\"), 'yes', 'no')"
   ]
  },
  {
   "cell_type": "code",
   "execution_count": 11,
   "metadata": {
    "collapsed": true
   },
   "outputs": [],
   "source": [
    "all_software['footnote'] = np.where((all_software['XML_tag1']== \"fn\") | (all_software['XML_tag2']== \"fn\") | (all_software['ref'] == \"no\") & (all_software['ack']== \"no\") & ((all_software['Trimmed_XML_tag2_content'].str.contains(\"\\\"fn\\\"\")) | (all_software['Trimmed_XML_tag1_content'].str.contains(\"\\\"fn\\\"\"))), 'yes', 'no')"
   ]
  },
  {
   "cell_type": "markdown",
   "metadata": {},
   "source": [
    "### Remove known confounds"
   ]
  },
  {
   "cell_type": "code",
   "execution_count": 12,
   "metadata": {
    "collapsed": false
   },
   "outputs": [],
   "source": [
    "# TARDIS\n",
    "all_software = all_software[~all_software.Trimmed_XML_tag1_content.str.contains(\"@tardis.byu.edu\")]\n",
    "all_software = all_software[~all_software.Trimmed_XML_tag1_content.str.contains(\"@tardis.ln.byu.edu\")]\n",
    "all_software = all_software[~all_software.Trimmed_XML_tag1_content.str.contains(\"@tardis.pha.jhu.edu\")]\n",
    "all_software = all_software[~all_software.Trimmed_XML_tag1_content.str.contains(\"tardis.ln.byu.edu\")]\n",
    "all_software = all_software[~all_software.Trimmed_XML_tag2_content.str.contains(\"@tardis.byu.edu\")]\n",
    "all_software = all_software[~all_software.Trimmed_XML_tag2_content.str.contains(\"@tardis.ln.byu.edu\")]\n",
    "all_software = all_software[~all_software.Trimmed_XML_tag2_content.str.contains(\"@tardis.pha.jhu.edu\")]\n",
    "all_software = all_software[~all_software.Trimmed_XML_tag2_content.str.contains(\"tardis.ln.byu.edu\")]\n",
    "all_software = all_software[~all_software.Trimmed_XML_tag1_content.str.contains(\"detector\")]\n",
    "all_software = all_software[~all_software.Trimmed_XML_tag1_content.str.contains(\"Detector\")]\n",
    "all_software = all_software[~all_software.Trimmed_XML_tag1_content.str.contains(\"detector\")]\n",
    "all_software = all_software[~all_software.Trimmed_XML_tag1_content.str.contains(\"Detector\")]\n",
    "all_software = all_software[~all_software.Trimmed_XML_tag2_content.str.contains(\"detector\")]\n",
    "all_software = all_software[~all_software.Trimmed_XML_tag2_content.str.contains(\"Detector\")]\n",
    "all_software = all_software[~all_software.Trimmed_XML_tag1_content.str.contains(\"detection\")]\n",
    "all_software = all_software[~all_software.Trimmed_XML_tag1_content.str.contains(\"Detection\")]\n",
    "all_software = all_software[~all_software.Trimmed_XML_tag2_content.str.contains(\"detection\")]\n",
    "all_software = all_software[~all_software.Trimmed_XML_tag2_content.str.contains(\"Detection\")]\n",
    "all_software = all_software[~all_software.Trimmed_XML_tag1_content.str.contains(\"STARDISK\")]\n",
    "all_software = all_software[~all_software.Trimmed_XML_tag2_content.str.contains(\"STARDISK\")]"
   ]
  },
  {
   "cell_type": "code",
   "execution_count": 13,
   "metadata": {
    "collapsed": true
   },
   "outputs": [],
   "source": [
    "# Stingray\n",
    "all_software = all_software[~all_software.Trimmed_XML_tag1_content.str.contains(\"Stingray Nebula\")]\n",
    "all_software = all_software[~all_software.Trimmed_XML_tag1_content.str.contains(\"Stingray nebula\")]\n",
    "all_software = all_software[~all_software.Trimmed_XML_tag1_content.str.contains(\"stingray nebula\")]\n",
    "all_software = all_software[~all_software.Trimmed_XML_tag1_content.str.contains(\"The Stingray\")]\n",
    "all_software = all_software[~all_software.Trimmed_XML_tag1_content.str.contains(\"The stingray\")]\n",
    "all_software = all_software[~all_software.Trimmed_XML_tag1_content.str.contains(\"the stingray\")]\n",
    "all_software = all_software[~all_software.Trimmed_XML_tag1_content.str.contains(\"the stingray\")]\n",
    "all_software = all_software[~all_software.Trimmed_XML_tag1_content.str.contains(\"the stingray\")]\n",
    "all_software = all_software[~all_software.Trimmed_XML_tag1_content.str.contains(\"Stingray Light Curve\")]\n",
    "all_software = all_software[~all_software.Trimmed_XML_tag1_content.str.contains(\"Stingray light curve\")]\n",
    "all_software = all_software[~all_software.Trimmed_XML_tag1_content.str.contains(\"stingray light curve\")]\n",
    "all_software = all_software[~all_software.Trimmed_XML_tag1_content.str.contains(\"tardis.ln.byu.edu\")]\n",
    "all_software = all_software[~all_software.Trimmed_XML_tag2_content.str.contains(\"Stingray Nebula\")]\n",
    "all_software = all_software[~all_software.Trimmed_XML_tag2_content.str.contains(\"Stingray nebula\")]\n",
    "all_software = all_software[~all_software.Trimmed_XML_tag2_content.str.contains(\"stingray nebula\")]\n",
    "all_software = all_software[~all_software.Trimmed_XML_tag2_content.str.contains(\"The Stingray\")]\n",
    "all_software = all_software[~all_software.Trimmed_XML_tag2_content.str.contains(\"The stingray\")]\n",
    "all_software = all_software[~all_software.Trimmed_XML_tag2_content.str.contains(\"the stingray\")]\n",
    "all_software = all_software[~all_software.Trimmed_XML_tag2_content.str.contains(\"the stingray\")]\n",
    "all_software = all_software[~all_software.Trimmed_XML_tag2_content.str.contains(\"the stingray\")]\n",
    "all_software = all_software[~all_software.Trimmed_XML_tag2_content.str.contains(\"Stingray Light Curve\")]\n",
    "all_software = all_software[~all_software.Trimmed_XML_tag2_content.str.contains(\"Stingray light curve\")]\n",
    "all_software = all_software[~all_software.Trimmed_XML_tag2_content.str.contains(\"stingray light curve\")]\n",
    "all_software = all_software[~all_software.Trimmed_XML_tag2_content.str.contains(\"tardis.ln.byu.edu\")]"
   ]
  },
  {
   "cell_type": "code",
   "execution_count": 14,
   "metadata": {
    "collapsed": true
   },
   "outputs": [],
   "source": [
    "# spec2d\n",
    "all_software = all_software[~all_software.Alias.str.contains(\"idlspec2d\")]\n",
    "all_software = all_software[~all_software.Trimmed_XML_tag1_content.str.contains(\"idlspec2d\")]\n",
    "all_software = all_software[~all_software.Trimmed_XML_tag2_content.str.contains(\"idlspec2d\")]"
   ]
  },
  {
   "cell_type": "markdown",
   "metadata": {},
   "source": [
    "### Results to a csv"
   ]
  },
  {
   "cell_type": "code",
   "execution_count": 15,
   "metadata": {
    "collapsed": false
   },
   "outputs": [],
   "source": [
    "all_software.to_csv(\"clean_all_software.csv\")"
   ]
  },
  {
   "cell_type": "markdown",
   "metadata": {},
   "source": [
    "### Some simple analysis"
   ]
  },
  {
   "cell_type": "code",
   "execution_count": 16,
   "metadata": {
    "collapsed": false
   },
   "outputs": [
    {
     "data": {
      "text/plain": [
       "Software_name\n",
       "AstroBlend       2\n",
       "AstroPy       1168\n",
       "RADMC-3D       613\n",
       "Spec2d         610\n",
       "Stingray         9\n",
       "TARDIS          19\n",
       "WCS Tools      191\n",
       "Name: File_name, dtype: int64"
      ]
     },
     "execution_count": 16,
     "metadata": {},
     "output_type": "execute_result"
    }
   ],
   "source": [
    "# how many articles were found for each package?\n",
    "all_software.groupby('Software_name')['File_name'].count()"
   ]
  },
  {
   "cell_type": "code",
   "execution_count": 17,
   "metadata": {
    "collapsed": false
   },
   "outputs": [
    {
     "data": {
      "text/plain": [
       "Software_name\n",
       "AstroPy      1014\n",
       "RADMC-3D      416\n",
       "Spec2d        436\n",
       "Stingray        5\n",
       "TARDIS         16\n",
       "WCS Tools     105\n",
       "Name: File_name, dtype: int64"
      ]
     },
     "execution_count": 17,
     "metadata": {},
     "output_type": "execute_result"
    }
   ],
   "source": [
    "# How many articles containing software aliases had references?\n",
    "all_refs = all_software.loc[all_software['ref'] == 'yes']\n",
    "all_refs.groupby('Software_name')['File_name'].count()"
   ]
  },
  {
   "cell_type": "code",
   "execution_count": 18,
   "metadata": {
    "collapsed": false
   },
   "outputs": [
    {
     "data": {
      "text/plain": [
       "Software_name\n",
       "AstroBlend         NaN\n",
       "AstroPy       0.868151\n",
       "RADMC-3D      0.678630\n",
       "Spec2d        0.714754\n",
       "Stingray      0.555556\n",
       "TARDIS        0.842105\n",
       "WCS Tools     0.549738\n",
       "Name: File_name, dtype: float64"
      ]
     },
     "execution_count": 18,
     "metadata": {},
     "output_type": "execute_result"
    }
   ],
   "source": [
    "# Proportion of articles containing software aliases that had references?\n",
    "ref_proportion = all_refs.groupby('Software_name')['File_name'].count()/all_software.groupby('Software_name')['File_name'].count()\n",
    "ref_proportion"
   ]
  },
  {
   "cell_type": "code",
   "execution_count": 19,
   "metadata": {
    "collapsed": false
   },
   "outputs": [
    {
     "data": {
      "text/plain": [
       "Software_name\n",
       "AstroPy      55\n",
       "RADMC-3D     14\n",
       "Spec2d       35\n",
       "Stingray      1\n",
       "WCS Tools     1\n",
       "Name: File_name, dtype: int64"
      ]
     },
     "execution_count": 19,
     "metadata": {},
     "output_type": "execute_result"
    }
   ],
   "source": [
    "# How many articles containing software aliases had acknowledgements?\n",
    "all_ack = all_software.loc[all_software['ack'] == 'yes']\n",
    "all_ack.groupby('Software_name')['File_name'].count()"
   ]
  },
  {
   "cell_type": "code",
   "execution_count": 20,
   "metadata": {
    "collapsed": false
   },
   "outputs": [
    {
     "data": {
      "text/plain": [
       "Software_name\n",
       "AstroPy      11\n",
       "RADMC-3D     33\n",
       "Spec2d       20\n",
       "Stingray      2\n",
       "WCS Tools    17\n",
       "Name: File_name, dtype: int64"
      ]
     },
     "execution_count": 20,
     "metadata": {},
     "output_type": "execute_result"
    }
   ],
   "source": [
    "# Footnotes are difficult...\n",
    "# How many articles containing software aliases had only footnotes?\n",
    "all_fn = all_software.loc[all_software['footnote'] == 'yes']\n",
    "all_fn.groupby('Software_name')['File_name'].count()"
   ]
  },
  {
   "cell_type": "code",
   "execution_count": 21,
   "metadata": {
    "collapsed": false
   },
   "outputs": [],
   "source": [
    "# Did any articles have no reference, acknowledgement, or footnote?\n",
    "no_credit = all_software.loc[(all_software['footnote'] == 'no') & (all_software['ref'] == 'no') & (all_software['ack'] == 'no')]"
   ]
  },
  {
   "cell_type": "code",
   "execution_count": 22,
   "metadata": {
    "collapsed": false
   },
   "outputs": [],
   "source": [
    "no_credit = no_credit.loc[~(no_credit['File_name'].isin(all_fn['File_name']))]"
   ]
  },
  {
   "cell_type": "code",
   "execution_count": 23,
   "metadata": {
    "collapsed": true
   },
   "outputs": [],
   "source": [
    "no_credit = no_credit.loc[~(no_credit['File_name'].isin(all_refs['File_name']))]"
   ]
  },
  {
   "cell_type": "code",
   "execution_count": 24,
   "metadata": {
    "collapsed": true
   },
   "outputs": [],
   "source": [
    "no_credit = no_credit.loc[~(no_credit['File_name'].isin(all_ack['File_name']))]"
   ]
  },
  {
   "cell_type": "code",
   "execution_count": 25,
   "metadata": {
    "collapsed": false
   },
   "outputs": [
    {
     "data": {
      "text/plain": [
       "Software_name\n",
       "AstroPy      25\n",
       "RADMC-3D     27\n",
       "Spec2d       35\n",
       "TARDIS        2\n",
       "WCS Tools    36\n",
       "Name: File_name, dtype: int64"
      ]
     },
     "execution_count": 25,
     "metadata": {},
     "output_type": "execute_result"
    }
   ],
   "source": [
    "no_credit.groupby('Software_name')['File_name'].count()"
   ]
  },
  {
   "cell_type": "code",
   "execution_count": 26,
   "metadata": {
    "collapsed": false
   },
   "outputs": [
    {
     "data": {
      "text/plain": [
       "Software_name\n",
       "AstroBlend         NaN\n",
       "AstroPy       0.021404\n",
       "RADMC-3D      0.044046\n",
       "Spec2d        0.057377\n",
       "Stingray           NaN\n",
       "TARDIS        0.105263\n",
       "WCS Tools     0.188482\n",
       "Name: File_name, dtype: float64"
      ]
     },
     "execution_count": 26,
     "metadata": {},
     "output_type": "execute_result"
    }
   ],
   "source": [
    "no_credit_proportion = ref_proportion = no_credit.groupby('Software_name')['File_name'].count()/all_software.groupby('Software_name')['File_name'].count()\n",
    "no_credit_proportion"
   ]
  },
  {
   "cell_type": "markdown",
   "metadata": {},
   "source": [
    "### Look at totals over time"
   ]
  },
  {
   "cell_type": "code",
   "execution_count": 71,
   "metadata": {
    "collapsed": false
   },
   "outputs": [],
   "source": [
    "over_time = pd.DataFrame({'Count' : all_software.groupby( [ \"Software_name\", \"Publication_year\"] ).size()}).reset_index()"
   ]
  },
  {
   "cell_type": "code",
   "execution_count": 72,
   "metadata": {
    "collapsed": false
   },
   "outputs": [
    {
     "data": {
      "text/html": [
       "<div>\n",
       "<table border=\"1\" class=\"dataframe\">\n",
       "  <thead>\n",
       "    <tr style=\"text-align: right;\">\n",
       "      <th></th>\n",
       "      <th>Software_name</th>\n",
       "      <th>Publication_year</th>\n",
       "      <th>Count</th>\n",
       "    </tr>\n",
       "  </thead>\n",
       "  <tbody>\n",
       "    <tr>\n",
       "      <th>0</th>\n",
       "      <td>AstroBlend</td>\n",
       "      <td>2016</td>\n",
       "      <td>2</td>\n",
       "    </tr>\n",
       "    <tr>\n",
       "      <th>1</th>\n",
       "      <td>AstroPy</td>\n",
       "      <td>2013</td>\n",
       "      <td>7</td>\n",
       "    </tr>\n",
       "    <tr>\n",
       "      <th>2</th>\n",
       "      <td>AstroPy</td>\n",
       "      <td>2014</td>\n",
       "      <td>80</td>\n",
       "    </tr>\n",
       "    <tr>\n",
       "      <th>3</th>\n",
       "      <td>AstroPy</td>\n",
       "      <td>2015</td>\n",
       "      <td>125</td>\n",
       "    </tr>\n",
       "    <tr>\n",
       "      <th>4</th>\n",
       "      <td>AstroPy</td>\n",
       "      <td>2016</td>\n",
       "      <td>250</td>\n",
       "    </tr>\n",
       "  </tbody>\n",
       "</table>\n",
       "</div>"
      ],
      "text/plain": [
       "  Software_name  Publication_year  Count\n",
       "0    AstroBlend              2016      2\n",
       "1       AstroPy              2013      7\n",
       "2       AstroPy              2014     80\n",
       "3       AstroPy              2015    125\n",
       "4       AstroPy              2016    250"
      ]
     },
     "execution_count": 72,
     "metadata": {},
     "output_type": "execute_result"
    }
   ],
   "source": [
    "over_time.head()"
   ]
  },
  {
   "cell_type": "code",
   "execution_count": 107,
   "metadata": {
    "collapsed": false
   },
   "outputs": [
    {
     "data": {
      "image/png": "[encoded data removed]",
      "text/plain": [
       "<matplotlib.figure.Figure at 0x11f8394d0>"
      ]
     },
     "metadata": {},
     "output_type": "display_data"
    }
   ],
   "source": [
    "%matplotlib inline\n",
    "sns.set(style=\"whitegrid\")\n",
    "g = sns.FacetGrid(over_time, col='Software_name', hue='Software_name', height = 8, aspect = 1.5)\n",
    "g = g.map(plt.plot, 'Publication_year', 'Count')\n",
    "g = g.map(plt.fill_between, 'Publication_year', 'Count', alpha=0.2).set_titles(\"{col_name} Software_name\")\n",
    "g = g.set_titles(\"{col_name}\")\n",
    "plt.subplots_adjust(top=0.92)\n",
    "g.savefig(\"Plots.png\")"
   ]
  },
  {
   "cell_type": "code",
   "execution_count": null,
   "metadata": {
    "collapsed": true
   },
   "outputs": [],
   "source": []
  }
 ],
 "metadata": {
  "anaconda-cloud": {},
  "kernelspec": {
   "display_name": "Python [Root]",
   "language": "python",
   "name": "Python [Root]"
  },
  "language_info": {
   "codemirror_mode": {
    "name": "ipython",
    "version": 2
   },
   "file_extension": ".py",
   "mimetype": "text/x-python",
   "name": "python",
   "nbconvert_exporter": "python",
   "pygments_lexer": "ipython2",
   "version": "2.7.9"
  }
 },
 "nbformat": 4,
 "nbformat_minor": 0
}
