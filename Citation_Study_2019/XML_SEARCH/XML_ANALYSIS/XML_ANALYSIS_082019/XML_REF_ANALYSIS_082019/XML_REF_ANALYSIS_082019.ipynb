{
 "cells": [
  {
   "cell_type": "code",
   "execution_count": 17,
   "metadata": {},
   "outputs": [],
   "source": [
    "import pandas as pd\n",
    "import numpy as np\n",
    "import sys\n",
    "import csv"
   ]
  },
  {
   "cell_type": "code",
   "execution_count": 18,
   "metadata": {},
   "outputs": [],
   "source": [
    "XML_results = pd.read_csv(\"XML_CLEAN_INPUT_082019.csv\") "
   ]
  },
  {
   "cell_type": "code",
   "execution_count": 19,
   "metadata": {},
   "outputs": [
    {
     "data": {
      "text/plain": [
       "['Alias',\n",
       " 'Software_Package',\n",
       " 'Identifier',\n",
       " 'Pub_Year',\n",
       " 'DOI',\n",
       " 'Journal_Title',\n",
       " 'Article_ID',\n",
       " 'File_Name',\n",
       " 'Parent1_Tag',\n",
       " 'Parent2_Tag',\n",
       " 'Parent3_Tag',\n",
       " 'Parent4_Tag',\n",
       " 'Parent1_Content',\n",
       " 'Parent2_Content',\n",
       " 'Parent3_Content',\n",
       " 'Author(s)',\n",
       " 'Publisher',\n",
       " 'Title']"
      ]
     },
     "execution_count": 19,
     "metadata": {},
     "output_type": "execute_result"
    }
   ],
   "source": [
    "list(XML_results.columns.values)"
   ]
  },
  {
   "cell_type": "code",
   "execution_count": 20,
   "metadata": {},
   "outputs": [
    {
     "data": {
      "text/html": [
       "<div>\n",
       "<style scoped>\n",
       "    .dataframe tbody tr th:only-of-type {\n",
       "        vertical-align: middle;\n",
       "    }\n",
       "\n",
       "    .dataframe tbody tr th {\n",
       "        vertical-align: top;\n",
       "    }\n",
       "\n",
       "    .dataframe thead th {\n",
       "        text-align: right;\n",
       "    }\n",
       "</style>\n",
       "<table border=\"1\" class=\"dataframe\">\n",
       "  <thead>\n",
       "    <tr style=\"text-align: right;\">\n",
       "      <th></th>\n",
       "      <th>Alias</th>\n",
       "      <th>Software_Package</th>\n",
       "      <th>Identifier</th>\n",
       "      <th>Pub_Year</th>\n",
       "      <th>DOI</th>\n",
       "      <th>Journal_Title</th>\n",
       "      <th>Article_ID</th>\n",
       "      <th>File_Name</th>\n",
       "      <th>Parent1_Tag</th>\n",
       "      <th>Parent2_Tag</th>\n",
       "      <th>Parent3_Tag</th>\n",
       "      <th>Parent4_Tag</th>\n",
       "      <th>Parent1_Content</th>\n",
       "      <th>Parent2_Content</th>\n",
       "      <th>Parent3_Content</th>\n",
       "      <th>Author(s)</th>\n",
       "      <th>Publisher</th>\n",
       "      <th>Title</th>\n",
       "    </tr>\n",
       "  </thead>\n",
       "  <tbody>\n",
       "    <tr>\n",
       "      <th>0</th>\n",
       "      <td>astroblend</td>\n",
       "      <td>AstroBlend</td>\n",
       "      <td>0</td>\n",
       "      <td>2016</td>\n",
       "      <td>10.3847/0004-637X/818/2/115</td>\n",
       "      <td>The Astrophysical Journal</td>\n",
       "      <td>apj521773, 10.3847/0004-637X/818/2/115, 521773...</td>\n",
       "      <td>apj_818_2_115.xml</td>\n",
       "      <td>sc</td>\n",
       "      <td>p</td>\n",
       "      <td>sec</td>\n",
       "      <td>sec</td>\n",
       "      <td>['astroblend']</td>\n",
       "      <td>['We note that our example scripts only explor...</td>\n",
       "      <td>['\\n&lt;label&gt;3.5.&lt;/label&gt;\\n&lt;title&gt;From &lt;sans-ser...</td>\n",
       "      <td>Vogt Frédéric P. A.  Owen Chris I.  Verdes-Mon...</td>\n",
       "      <td>The American Astronomical Society</td>\n",
       "      <td>ADVANCED DATA VISUALIZATION IN ASTROPHYSICS: T...</td>\n",
       "    </tr>\n",
       "    <tr>\n",
       "      <th>1</th>\n",
       "      <td>astroblend.com</td>\n",
       "      <td>AstroBlend</td>\n",
       "      <td>0</td>\n",
       "      <td>2016</td>\n",
       "      <td>10.3847/0004-637X/818/2/115</td>\n",
       "      <td>The Astrophysical Journal</td>\n",
       "      <td>apj521773, 10.3847/0004-637X/818/2/115, 521773...</td>\n",
       "      <td>apj_818_2_115.xml</td>\n",
       "      <td>ext-link</td>\n",
       "      <td>p</td>\n",
       "      <td>fn</td>\n",
       "      <td>p</td>\n",
       "      <td>['http://www.astroblend.com']</td>\n",
       "      <td>['\\n&lt;ext-link ext-link-type=\"uri\" xlink:href=\"...</td>\n",
       "      <td>['\\n&lt;label&gt;&lt;sup&gt;26&lt;/sup&gt;&lt;/label&gt;\\n&lt;p&gt;\\n&lt;ext-li...</td>\n",
       "      <td>Vogt Frédéric P. A.  Owen Chris I.  Verdes-Mon...</td>\n",
       "      <td>The American Astronomical Society</td>\n",
       "      <td>ADVANCED DATA VISUALIZATION IN ASTROPHYSICS: T...</td>\n",
       "    </tr>\n",
       "    <tr>\n",
       "      <th>2</th>\n",
       "      <td>10.1051/0004-6361/201322068</td>\n",
       "      <td>Astropy</td>\n",
       "      <td>1</td>\n",
       "      <td>2014</td>\n",
       "      <td>10.1088/0004-6256/148/1/13</td>\n",
       "      <td>The Astronomical Journal</td>\n",
       "      <td>aj493368, ANJOAA, 10.1088/0004-6256/148/1/13, ...</td>\n",
       "      <td>aj_148_1_13.xml</td>\n",
       "      <td>ext-link</td>\n",
       "      <td>nlm-citation</td>\n",
       "      <td>ref</td>\n",
       "      <td>ref-list</td>\n",
       "      <td>['10.1051/0004-6361/201322068']</td>\n",
       "      <td>['\\n&lt;person-group person-group-type=\"author\"&gt;\\...</td>\n",
       "      <td>['\\n&lt;nlm-citation citation-type=\"journal\"&gt;\\n&lt;p...</td>\n",
       "      <td>Rodney Steven A.Riess Adam G.Strolger Louis-Gr...</td>\n",
       "      <td>The American Astronomical Society</td>\n",
       "      <td>TYPE Ia SUPERNOVA RATE MEASUREMENTS TO REDSHIF...</td>\n",
       "    </tr>\n",
       "    <tr>\n",
       "      <th>3</th>\n",
       "      <td>10.1051/0004-6361/201322068</td>\n",
       "      <td>Astropy</td>\n",
       "      <td>1</td>\n",
       "      <td>2014</td>\n",
       "      <td>10.1088/0004-6256/148/1/14</td>\n",
       "      <td>The Astronomical Journal</td>\n",
       "      <td>aj495229, ANJOAA, 10.1088/0004-6256/148/1/14, ...</td>\n",
       "      <td>aj_148_1_14.xml</td>\n",
       "      <td>ext-link</td>\n",
       "      <td>nlm-citation</td>\n",
       "      <td>ref</td>\n",
       "      <td>ref-list</td>\n",
       "      <td>['10.1051/0004-6361/201322068']</td>\n",
       "      <td>['\\n&lt;person-group person-group-type=\"author\"&gt;\\...</td>\n",
       "      <td>['\\n&lt;nlm-citation citation-type=\"journal\"&gt;\\n&lt;p...</td>\n",
       "      <td>Bañados E.Venemans B. P.Morganson E.Decarli R....</td>\n",
       "      <td>The American Astronomical Society</td>\n",
       "      <td>DISCOVERY OF EIGHT z ∼ 6 QUASARS FROM Pan-STARRS1</td>\n",
       "    </tr>\n",
       "    <tr>\n",
       "      <th>4</th>\n",
       "      <td>10.1051/0004-6361/201322068</td>\n",
       "      <td>Astropy</td>\n",
       "      <td>1</td>\n",
       "      <td>2014</td>\n",
       "      <td>10.1088/0004-6256/148/3/53</td>\n",
       "      <td>The Astronomical Journal</td>\n",
       "      <td>aj499538, ANJOAA, 10.1088/0004-6256/148/3/53, ...</td>\n",
       "      <td>aj_148_3_53.xml</td>\n",
       "      <td>ext-link</td>\n",
       "      <td>nlm-citation</td>\n",
       "      <td>ref</td>\n",
       "      <td>ref-list</td>\n",
       "      <td>['10.1051/0004-6361/201322068']</td>\n",
       "      <td>['\\n&lt;person-group person-group-type=\"author\"&gt;\\...</td>\n",
       "      <td>['\\n&lt;nlm-citation citation-type=\"journal\"&gt;\\n&lt;p...</td>\n",
       "      <td>Gullikson KevinDodson-Robinson SarahKraus Adam...</td>\n",
       "      <td>The American Astronomical Society</td>\n",
       "      <td>CORRECTING FOR TELLURIC ABSORPTION: METHODS, C...</td>\n",
       "    </tr>\n",
       "  </tbody>\n",
       "</table>\n",
       "</div>"
      ],
      "text/plain": [
       "                         Alias Software_Package  Identifier  Pub_Year  \\\n",
       "0                   astroblend       AstroBlend           0      2016   \n",
       "1               astroblend.com       AstroBlend           0      2016   \n",
       "2  10.1051/0004-6361/201322068          Astropy           1      2014   \n",
       "3  10.1051/0004-6361/201322068          Astropy           1      2014   \n",
       "4  10.1051/0004-6361/201322068          Astropy           1      2014   \n",
       "\n",
       "                           DOI              Journal_Title  \\\n",
       "0  10.3847/0004-637X/818/2/115  The Astrophysical Journal   \n",
       "1  10.3847/0004-637X/818/2/115  The Astrophysical Journal   \n",
       "2   10.1088/0004-6256/148/1/13   The Astronomical Journal   \n",
       "3   10.1088/0004-6256/148/1/14   The Astronomical Journal   \n",
       "4   10.1088/0004-6256/148/3/53   The Astronomical Journal   \n",
       "\n",
       "                                          Article_ID          File_Name  \\\n",
       "0  apj521773, 10.3847/0004-637X/818/2/115, 521773...  apj_818_2_115.xml   \n",
       "1  apj521773, 10.3847/0004-637X/818/2/115, 521773...  apj_818_2_115.xml   \n",
       "2  aj493368, ANJOAA, 10.1088/0004-6256/148/1/13, ...    aj_148_1_13.xml   \n",
       "3  aj495229, ANJOAA, 10.1088/0004-6256/148/1/14, ...    aj_148_1_14.xml   \n",
       "4  aj499538, ANJOAA, 10.1088/0004-6256/148/3/53, ...    aj_148_3_53.xml   \n",
       "\n",
       "  Parent1_Tag   Parent2_Tag Parent3_Tag Parent4_Tag  \\\n",
       "0          sc             p         sec         sec   \n",
       "1    ext-link             p          fn           p   \n",
       "2    ext-link  nlm-citation         ref    ref-list   \n",
       "3    ext-link  nlm-citation         ref    ref-list   \n",
       "4    ext-link  nlm-citation         ref    ref-list   \n",
       "\n",
       "                   Parent1_Content  \\\n",
       "0                   ['astroblend']   \n",
       "1    ['http://www.astroblend.com']   \n",
       "2  ['10.1051/0004-6361/201322068']   \n",
       "3  ['10.1051/0004-6361/201322068']   \n",
       "4  ['10.1051/0004-6361/201322068']   \n",
       "\n",
       "                                     Parent2_Content  \\\n",
       "0  ['We note that our example scripts only explor...   \n",
       "1  ['\\n<ext-link ext-link-type=\"uri\" xlink:href=\"...   \n",
       "2  ['\\n<person-group person-group-type=\"author\">\\...   \n",
       "3  ['\\n<person-group person-group-type=\"author\">\\...   \n",
       "4  ['\\n<person-group person-group-type=\"author\">\\...   \n",
       "\n",
       "                                     Parent3_Content  \\\n",
       "0  ['\\n<label>3.5.</label>\\n<title>From <sans-ser...   \n",
       "1  ['\\n<label><sup>26</sup></label>\\n<p>\\n<ext-li...   \n",
       "2  ['\\n<nlm-citation citation-type=\"journal\">\\n<p...   \n",
       "3  ['\\n<nlm-citation citation-type=\"journal\">\\n<p...   \n",
       "4  ['\\n<nlm-citation citation-type=\"journal\">\\n<p...   \n",
       "\n",
       "                                           Author(s)  \\\n",
       "0  Vogt Frédéric P. A.  Owen Chris I.  Verdes-Mon...   \n",
       "1  Vogt Frédéric P. A.  Owen Chris I.  Verdes-Mon...   \n",
       "2  Rodney Steven A.Riess Adam G.Strolger Louis-Gr...   \n",
       "3  Bañados E.Venemans B. P.Morganson E.Decarli R....   \n",
       "4  Gullikson KevinDodson-Robinson SarahKraus Adam...   \n",
       "\n",
       "                           Publisher  \\\n",
       "0  The American Astronomical Society   \n",
       "1  The American Astronomical Society   \n",
       "2  The American Astronomical Society   \n",
       "3  The American Astronomical Society   \n",
       "4  The American Astronomical Society   \n",
       "\n",
       "                                               Title  \n",
       "0  ADVANCED DATA VISUALIZATION IN ASTROPHYSICS: T...  \n",
       "1  ADVANCED DATA VISUALIZATION IN ASTROPHYSICS: T...  \n",
       "2  TYPE Ia SUPERNOVA RATE MEASUREMENTS TO REDSHIF...  \n",
       "3  DISCOVERY OF EIGHT z ∼ 6 QUASARS FROM Pan-STARRS1  \n",
       "4  CORRECTING FOR TELLURIC ABSORPTION: METHODS, C...  "
      ]
     },
     "execution_count": 20,
     "metadata": {},
     "output_type": "execute_result"
    }
   ],
   "source": [
    "XML_results.head(5)"
   ]
  },
  {
   "cell_type": "code",
   "execution_count": 21,
   "metadata": {},
   "outputs": [],
   "source": [
    "# Convert tag, content, identifier, pub_year cols to strings\n",
    "\n",
    "XML_results['Parent1_Tag'] = XML_results['Parent1_Tag'].astype('|S')\n",
    "XML_results['Parent2_Tag'] = XML_results['Parent2_Tag'].astype('|S')\n",
    "XML_results['Parent3_Tag'] = XML_results['Parent3_Tag'].astype('|S')\n",
    "XML_results['Parent4_Tag'] = XML_results['Parent4_Tag'].astype('|S')\n",
    "\n",
    "XML_results['Parent1_Content'] = XML_results['Parent1_Content'].astype('|S')\n",
    "XML_results['Parent2_Content'] = XML_results['Parent2_Content'].astype('|S')\n",
    "XML_results['Parent3_Content'] = XML_results['Parent3_Content'].astype('|S')\n",
    "\n",
    "XML_results['Identifier'] = XML_results['Identifier'].astype('|S')\n",
    "XML_results['Pub_Year'] = XML_results['Pub_Year'].astype('|S')\n",
    "XML_results['Alias'] = XML_results['Alias'].astype('|S')"
   ]
  },
  {
   "cell_type": "code",
   "execution_count": 22,
   "metadata": {},
   "outputs": [],
   "source": [
    "# Create column for reference section\n",
    "\n",
    "# If the tag lable or tag content contain any of the following reference elements it will be marked \"yes\":\n",
    "# element-citation \n",
    "# mixed-citation\n",
    "# nlm-citation\n",
    "# ref\n",
    "# citation-alternatives\n",
    "# ref-list \n",
    "# xref\n",
    "# source\n",
    "# bibr\n",
    "# collab\n",
    "# contrib-group\n",
    "# person-group\n",
    "# pub-id\n",
    "\n",
    "references = ['Parent1_Tag','Parent2_Tag','Parent3_Tag','Parent4_Tag','Parent1_Content','Parent2_Content']\n",
    "XML_results[\"ref\"] = np.where((XML_results[references] == \"element-citation\").any(axis=1) | (XML_results[references]== \"mixed-citation\").any(axis=1) | (XML_results[references]== \"nlm-citation\").any(axis=1) | (XML_results[references]== \"ref\").any(axis=1) | (XML_results[references]== \"citation-alternatives\").any(axis=1) | (XML_results[references]== \"ref-list\").any(axis=1) | (XML_results[references]== \"xref\").any(axis=1) | (XML_results[references]== \"source\").any(axis=1) | (XML_results[references]== \"collab\").any(axis=1) | (XML_results[references]== \"contrib-group\").any(axis=1) | (XML_results[references]== \"person-group\").any(axis=1) | (XML_results[references]== \"pub-id\").any(axis=1) | (XML_results[references]== \"bibr\").any(axis=1), \"yes\", \"no\")"
   ]
  },
  {
   "cell_type": "code",
   "execution_count": 23,
   "metadata": {},
   "outputs": [],
   "source": [
    "# Create column for acknowledgements\n",
    "# If the tag lable or tag content contains \"ack\" it will be marked \"yes\"\n",
    "\n",
    "acknowledgements = ['Parent1_Tag','Parent2_Tag','Parent3_Tag','Parent4_Tag','Parent1_Content','Parent2_Content']\n",
    "XML_results[\"ack\"] = np.where((XML_results[acknowledgements] == \"ack\").any(axis=1), \"yes\", \"no\")"
   ]
  },
  {
   "cell_type": "code",
   "execution_count": 24,
   "metadata": {},
   "outputs": [],
   "source": [
    "# Create column for footnotes\n",
    "# If the tag lable or tag content contains \"fn\" or \"fn-group\" it will be marked \"yes\"\n",
    "\n",
    "footnotes = ['Parent1_Tag','Parent2_Tag','Parent3_Tag','Parent4_Tag','Parent1_Content','Parent2_Content']\n",
    "XML_results[\"fn\"] = np.where((XML_results[footnotes] == \"fn\").any(axis=1) | (XML_results[footnotes]== \"fn-group\").any(axis=1), \"yes\", \"no\")"
   ]
  },
  {
   "cell_type": "code",
   "execution_count": 25,
   "metadata": {},
   "outputs": [],
   "source": [
    "# Create column for attempt at recognizable credit (ref + ack + fn + ext-link + back)\n",
    "\n",
    "# element-citation \n",
    "# mixed-citation\n",
    "# nlm-citation\n",
    "# ref\n",
    "# citation-alternatives\n",
    "# ref-list \n",
    "# xref\n",
    "# source\n",
    "# bibr\n",
    "# collab\n",
    "# contrib-group\n",
    "# person-group\n",
    "# pub-id\n",
    "# ext-link\n",
    "# back\n",
    "\n",
    "rec_credit = ['Parent1_Tag','Parent2_Tag','Parent3_Tag','Parent4_Tag','Parent1_Content','Parent2_Content']\n",
    "XML_results[\"rec_credit\"] = np.where((XML_results[rec_credit] == \"element-citation\").any(axis=1) | (XML_results[rec_credit]== \"mixed-citation\").any(axis=1) | (XML_results[rec_credit]== \"nlm-citation\").any(axis=1) | (XML_results[rec_credit]== \"ref\").any(axis=1) | (XML_results[rec_credit]== \"citation-alternatives\").any(axis=1) | (XML_results[rec_credit]== \"ref-list\").any(axis=1) | (XML_results[rec_credit]== \"xref\").any(axis=1) | (XML_results[rec_credit]== \"source\").any(axis=1) | (XML_results[rec_credit]== \"collab\").any(axis=1) | (XML_results[rec_credit]== \"contrib-group\").any(axis=1) | (XML_results[rec_credit]== \"person-group\").any(axis=1) | (XML_results[rec_credit]== \"pub-id\").any(axis=1) | (XML_results[rec_credit] == \"fn\").any(axis=1) | (XML_results[rec_credit]== \"fn-group\").any(axis=1) | (XML_results[rec_credit]== \"ack\").any(axis=1) |(XML_results[rec_credit]== \"back\").any(axis=1) |(XML_results[rec_credit]== \"ext-link\").any(axis=1) | (XML_results[rec_credit]== \"bibr\").any(axis=1), \"yes\", \"no\")"
   ]
  },
  {
   "cell_type": "code",
   "execution_count": 26,
   "metadata": {},
   "outputs": [
    {
     "data": {
      "text/plain": [
       "['Alias',\n",
       " 'Software_Package',\n",
       " 'Identifier',\n",
       " 'Pub_Year',\n",
       " 'DOI',\n",
       " 'Journal_Title',\n",
       " 'Article_ID',\n",
       " 'File_Name',\n",
       " 'Parent1_Tag',\n",
       " 'Parent2_Tag',\n",
       " 'Parent3_Tag',\n",
       " 'Parent4_Tag',\n",
       " 'Parent1_Content',\n",
       " 'Parent2_Content',\n",
       " 'Parent3_Content',\n",
       " 'Author(s)',\n",
       " 'Publisher',\n",
       " 'Title',\n",
       " 'ref',\n",
       " 'ack',\n",
       " 'fn',\n",
       " 'rec_credit']"
      ]
     },
     "execution_count": 26,
     "metadata": {},
     "output_type": "execute_result"
    }
   ],
   "source": [
    "# Check new cols\n",
    "\n",
    "list(XML_results.columns.values)"
   ]
  },
  {
   "cell_type": "code",
   "execution_count": 27,
   "metadata": {},
   "outputs": [],
   "source": [
    "XML_results.to_csv(\"XML_REF_ANALYSIS_082019.csv\")"
   ]
  },
  {
   "cell_type": "code",
   "execution_count": 28,
   "metadata": {},
   "outputs": [
    {
     "data": {
      "text/plain": [
       "Software_Package\n",
       "AstroBlend           NaN\n",
       "Astropy         0.860595\n",
       "RADMC-3D        0.682243\n",
       "SAOImage DS9    0.167155\n",
       "Spec2d          0.467105\n",
       "Stingray        0.500000\n",
       "TARDIS          1.000000\n",
       "WCSTools        0.300813\n",
       "Name: File_Name, dtype: float64"
      ]
     },
     "execution_count": 28,
     "metadata": {},
     "output_type": "execute_result"
    }
   ],
   "source": [
    "# Proportion of articles with aliases in refrence sections\n",
    "\n",
    "XML_all_refs = XML_results.loc[XML_results['ref'] == \"yes\"]\n",
    "XML_ref_proportion = XML_all_refs.groupby('Software_Package')['File_Name'].nunique()/XML_results.groupby('Software_Package')['File_Name'].nunique()\n",
    "# XML_ref_proportion.to_csv(\"XML_ref_proportion_082019.csv\")\n",
    "XML_ref_proportion"
   ]
  },
  {
   "cell_type": "code",
   "execution_count": 29,
   "metadata": {},
   "outputs": [
    {
     "data": {
      "text/plain": [
       "Software_Package\n",
       "AstroBlend      1.000000\n",
       "Astropy         0.144981\n",
       "RADMC-3D        0.738318\n",
       "SAOImage DS9    0.483871\n",
       "Spec2d          0.595395\n",
       "Stingray        1.000000\n",
       "TARDIS          0.500000\n",
       "WCSTools        0.861789\n",
       "Name: File_Name, dtype: float64"
      ]
     },
     "execution_count": 29,
     "metadata": {},
     "output_type": "execute_result"
    }
   ],
   "source": [
    "# Proportion of articles with aliases not giving recognizable credit\n",
    "\n",
    "XML_all_no_rec = XML_results.loc[XML_results['rec_credit'] == \"no\"]\n",
    "XML_no_rec_credit_proportion = XML_all_no_rec.groupby('Software_Package')['File_Name'].nunique()/XML_results.groupby('Software_Package')['File_Name'].nunique()\n",
    "# XML_no_rec_credit_proportion.to_csv(\"XML_no_rec_credit_proportion_082019.csv\")\n",
    "XML_no_rec_credit_proportion"
   ]
  },
  {
   "cell_type": "code",
   "execution_count": 30,
   "metadata": {},
   "outputs": [
    {
     "name": "stderr",
     "output_type": "stream",
     "text": [
      "C:\\ProgramData\\Anaconda2\\lib\\site-packages\\ipykernel_launcher.py:5: FutureWarning: The signature of `Series.to_csv` was aligned to that of `DataFrame.to_csv`, and argument 'header' will change its default value from False to True: please pass an explicit value to suppress this warning.\n",
      "  \"\"\"\n"
     ]
    },
    {
     "data": {
      "text/plain": [
       "Software_Package\n",
       "AstroBlend        1\n",
       "Astropy          78\n",
       "RADMC-3D        158\n",
       "SAOImage DS9    165\n",
       "Spec2d          181\n",
       "Stingray          2\n",
       "TARDIS            2\n",
       "WCSTools        106\n",
       "Name: File_Name, dtype: int64"
      ]
     },
     "execution_count": 30,
     "metadata": {},
     "output_type": "execute_result"
    }
   ],
   "source": [
    "# Total number of unique papers without some form of recognizable credit\n",
    "\n",
    "XML_all_no_rec = XML_results.loc[XML_results['rec_credit'] == \"no\"]\n",
    "XML_no_rec_total = XML_all_no_rec.groupby('Software_Package')['File_Name'].nunique()\n",
    "XML_no_rec_total.to_csv(\"XML_no_rec_total_082019.csv\")\n",
    "XML_no_rec_total"
   ]
  },
  {
   "cell_type": "code",
   "execution_count": 31,
   "metadata": {},
   "outputs": [
    {
     "name": "stderr",
     "output_type": "stream",
     "text": [
      "C:\\ProgramData\\Anaconda2\\lib\\site-packages\\ipykernel_launcher.py:5: FutureWarning: The signature of `Series.to_csv` was aligned to that of `DataFrame.to_csv`, and argument 'header' will change its default value from False to True: please pass an explicit value to suppress this warning.\n",
      "  \"\"\"\n"
     ]
    },
    {
     "data": {
      "text/plain": [
       "Software_Package\n",
       "AstroBlend        1\n",
       "Astropy         531\n",
       "RADMC-3D        192\n",
       "SAOImage DS9    244\n",
       "Spec2d          227\n",
       "Stingray          1\n",
       "TARDIS            4\n",
       "WCSTools         74\n",
       "Name: File_Name, dtype: int64"
      ]
     },
     "execution_count": 31,
     "metadata": {},
     "output_type": "execute_result"
    }
   ],
   "source": [
    "# Total number of unique papers with some form of recognizable credit\n",
    "\n",
    "XML_all_yes_rec = XML_results.loc[XML_results['rec_credit'] == \"yes\"]\n",
    "XML_yes_rec_total = XML_all_yes_rec.groupby('Software_Package')['File_Name'].nunique()\n",
    "XML_yes_rec_total.to_csv(\"XML_yes_rec_total_082019.csv\")\n",
    "XML_yes_rec_total"
   ]
  },
  {
   "cell_type": "code",
   "execution_count": 32,
   "metadata": {},
   "outputs": [
    {
     "name": "stderr",
     "output_type": "stream",
     "text": [
      "C:\\ProgramData\\Anaconda2\\lib\\site-packages\\ipykernel_launcher.py:5: FutureWarning: The signature of `Series.to_csv` was aligned to that of `DataFrame.to_csv`, and argument 'header' will change its default value from False to True: please pass an explicit value to suppress this warning.\n",
      "  \"\"\"\n"
     ]
    },
    {
     "data": {
      "text/plain": [
       "Software_Package\n",
       "Astropy         463\n",
       "RADMC-3D        146\n",
       "SAOImage DS9     57\n",
       "Spec2d          142\n",
       "Stingray          1\n",
       "TARDIS            4\n",
       "WCSTools         37\n",
       "Name: File_Name, dtype: int64"
      ]
     },
     "execution_count": 32,
     "metadata": {},
     "output_type": "execute_result"
    }
   ],
   "source": [
    "# Total number of unique papers with software aliases in the references section\n",
    "\n",
    "XML_all_refs = XML_results.loc[XML_results['ref'] == \"yes\"]\n",
    "XML_ref_count = XML_all_refs.groupby('Software_Package')['File_Name'].nunique()\n",
    "XML_ref_count.to_csv(\"XML_ref_count_082019.csv\")\n",
    "XML_ref_count"
   ]
  },
  {
   "cell_type": "code",
   "execution_count": null,
   "metadata": {},
   "outputs": [],
   "source": []
  },
  {
   "cell_type": "code",
   "execution_count": null,
   "metadata": {},
   "outputs": [],
   "source": []
  },
  {
   "cell_type": "code",
   "execution_count": null,
   "metadata": {},
   "outputs": [],
   "source": []
  },
  {
   "cell_type": "code",
   "execution_count": null,
   "metadata": {},
   "outputs": [],
   "source": []
  },
  {
   "cell_type": "code",
   "execution_count": null,
   "metadata": {},
   "outputs": [],
   "source": []
  },
  {
   "cell_type": "code",
   "execution_count": null,
   "metadata": {},
   "outputs": [],
   "source": [
    "# How many unique aliases were used in the references for each package?\n",
    "\n",
    "print (XML_all_refs.groupby('Software_Package')['Alias'].nunique())"
   ]
  },
  {
   "cell_type": "code",
   "execution_count": null,
   "metadata": {},
   "outputs": [],
   "source": [
    "# Which aliases were used in the papers with aliases in references? Write results to csv\n",
    "\n",
    "XML_ref_aliases = pd.DataFrame({'ref_count' : XML_all_refs.groupby(['Software_Package', 'Alias', 'Identifier'])['File_Name'].nunique()}).reset_index()\n",
    "XML_ref_aliases.to_csv(\"XML_ref_aliases_082019.csv\")\n",
    "XML_ref_aliases"
   ]
  },
  {
   "cell_type": "code",
   "execution_count": null,
   "metadata": {},
   "outputs": [],
   "source": [
    "# Proportion of articles containing software aliases with the software mentioned in an acknowledgement\n",
    "\n",
    "XML_all_ack = XML_results.loc[XML_results['ack'] == 'yes']\n",
    "XML_ack_proportion = XML_all_ack.groupby('Software_Package')['File_Name'].nunique()/XML_results.groupby('Software_Package')['File_Name'].nunique()\n",
    "XML_ack_proportion"
   ]
  },
  {
   "cell_type": "code",
   "execution_count": null,
   "metadata": {},
   "outputs": [],
   "source": [
    "# Total number of unique papers with software aliases in acknowledgements\n",
    "\n",
    "XML_all_ack = XML_results.loc[XML_results['ack'] == \"yes\"]\n",
    "XML_ack_count = XML_all_ack.groupby('Software_Package')['File_Name'].nunique()\n",
    "XML_ack_count.to_csv(\"XML_ack_count_082019.csv\")\n",
    "XML_ack_count"
   ]
  },
  {
   "cell_type": "code",
   "execution_count": null,
   "metadata": {},
   "outputs": [],
   "source": [
    "# Which aliases were used in the papers with aliases in acknowledgements? Write results to csv\n",
    "\n",
    "XML_ack_aliases = pd.DataFrame({'ack_count' : XML_all_ack.groupby([ \"Software_Package\", \"Alias\", \"Identifier\"])['File_Name'].nunique()}).reset_index()\n",
    "XML_ack_aliases.to_csv(\"XML_ack_aliases_082019.csv\")\n",
    "XML_ack_aliases"
   ]
  },
  {
   "cell_type": "code",
   "execution_count": null,
   "metadata": {},
   "outputs": [],
   "source": [
    "# Proportion of articles containing software aliases with the software mentioned in a footnote\n",
    "\n",
    "XML_all_fn = XML_results.loc[XML_results['fn'] == 'yes']\n",
    "XML_fn_proportion = XML_all_fn.groupby('Software_Package')['File_Name'].nunique()/XML_results.groupby('Software_Package')['File_Name'].nunique()\n",
    "XML_fn_proportion"
   ]
  },
  {
   "cell_type": "code",
   "execution_count": null,
   "metadata": {},
   "outputs": [],
   "source": [
    "# Total number of unique papers with software aliases in footnotes\n",
    "\n",
    "XML_all_fn = XML_results.loc[XML_results['fn'] == \"yes\"]\n",
    "XML_fn_count = XML_all_fn.groupby('Software_Package')['File_Name'].nunique()\n",
    "XML_fn_count.to_csv(\"XML_fn_count_082019.csv\")\n",
    "XML_fn_count"
   ]
  },
  {
   "cell_type": "code",
   "execution_count": null,
   "metadata": {},
   "outputs": [],
   "source": [
    "# Which aliases were used in the papers with aliases in footnotes? Write results to csv\n",
    "\n",
    "XML_fn_aliases = pd.DataFrame({'fn_count' : XML_all_fn.groupby( [ \"Software_Package\", \"Alias\", \"Identifier\"])['File_Name'].nunique()}).reset_index()\n",
    "XML_fn_aliases.to_csv(\"XML_fn_aliases_082019.csv\")\n",
    "XML_fn_aliases"
   ]
  },
  {
   "cell_type": "code",
   "execution_count": null,
   "metadata": {},
   "outputs": [],
   "source": [
    "# Did any articles have no reference, acknowledgement, or footnote?\n",
    "\n",
    "no_credit = XML_results.loc[(XML_results['fn'] == 'no') & (XML_results['ref'] == 'no') & (XML_results['ack'] == 'no')]\n",
    "no_credit = no_credit.loc[~(no_credit['File_Name'].isin(XML_all_fn['File_Name']))]\n",
    "no_credit = no_credit.loc[~(no_credit['File_Name'].isin(XML_all_refs['File_Name']))]\n",
    "no_credit = no_credit.loc[~(no_credit['File_Name'].isin(XML_all_ack['File_Name']))]\n",
    "no_credit.groupby('Software_Package')['File_Name'].nunique()"
   ]
  }
 ],
 "metadata": {
  "kernelspec": {
   "display_name": "Python 2",
   "language": "python",
   "name": "python2"
  },
  "language_info": {
   "codemirror_mode": {
    "name": "ipython",
    "version": 2
   },
   "file_extension": ".py",
   "mimetype": "text/x-python",
   "name": "python",
   "nbconvert_exporter": "python",
   "pygments_lexer": "ipython2",
   "version": "2.7.16"
  }
 },
 "nbformat": 4,
 "nbformat_minor": 2
}
